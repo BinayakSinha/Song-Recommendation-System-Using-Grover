{
 "cells": [
  {
   "cell_type": "code",
   "execution_count": 1,
   "id": "91971cba",
   "metadata": {
    "_cell_guid": "b1076dfc-b9ad-4769-8c92-a6c4dae69d19",
    "_uuid": "8f2839f25d086af736a60e9eeb907d3b93b6e0e5",
    "execution": {
     "iopub.execute_input": "2025-08-01T14:23:11.182017Z",
     "iopub.status.busy": "2025-08-01T14:23:11.181693Z",
     "iopub.status.idle": "2025-08-01T14:23:12.788157Z",
     "shell.execute_reply": "2025-08-01T14:23:12.786939Z"
    },
    "papermill": {
     "duration": 1.613157,
     "end_time": "2025-08-01T14:23:12.789985",
     "exception": false,
     "start_time": "2025-08-01T14:23:11.176828",
     "status": "completed"
    },
    "tags": []
   },
   "outputs": [
    {
     "name": "stdout",
     "output_type": "stream",
     "text": [
      "/kaggle/input/30000-spotify-songs/readme.md\n",
      "/kaggle/input/30000-spotify-songs/spotify_songs.csv\n"
     ]
    }
   ],
   "source": [
    "# This Python 3 environment comes with many helpful analytics libraries installed\n",
    "# It is defined by the kaggle/python Docker image: https://github.com/kaggle/docker-python\n",
    "# For example, here's several helpful packages to load\n",
    "\n",
    "import numpy as np # linear algebra\n",
    "import pandas as pd # data processing, CSV file I/O (e.g. pd.read_csv)\n",
    "\n",
    "# Input data files are available in the read-only \"../input/\" directory\n",
    "# For example, running this (by clicking run or pressing Shift+Enter) will list all files under the input directory\n",
    "\n",
    "import os\n",
    "for dirname, _, filenames in os.walk('/kaggle/input'):\n",
    "    for filename in filenames:\n",
    "        print(os.path.join(dirname, filename))\n",
    "\n",
    "# You can write up to 20GB to the current directory (/kaggle/working/) that gets preserved as output when you create a version using \"Save & Run All\" \n",
    "# You can also write temporary files to /kaggle/temp/, but they won't be saved outside of the current session"
   ]
  },
  {
   "cell_type": "code",
   "execution_count": 2,
   "id": "537769d6",
   "metadata": {
    "execution": {
     "iopub.execute_input": "2025-08-01T14:23:12.797869Z",
     "iopub.status.busy": "2025-08-01T14:23:12.797388Z",
     "iopub.status.idle": "2025-08-01T14:23:24.706407Z",
     "shell.execute_reply": "2025-08-01T14:23:24.705238Z"
    },
    "papermill": {
     "duration": 11.914737,
     "end_time": "2025-08-01T14:23:24.708425",
     "exception": false,
     "start_time": "2025-08-01T14:23:12.793688",
     "status": "completed"
    },
    "tags": []
   },
   "outputs": [
    {
     "name": "stdout",
     "output_type": "stream",
     "text": [
      "\u001b[2K     \u001b[90m━━━━━━━━━━━━━━━━━━━━━━━━━━━━━━━━━━━━━━━━\u001b[0m \u001b[32m57.1/57.1 kB\u001b[0m \u001b[31m1.7 MB/s\u001b[0m eta \u001b[36m0:00:00\u001b[0m\r\n",
      "\u001b[2K   \u001b[90m━━━━━━━━━━━━━━━━━━━━━━━━━━━━━━━━━━━━━━━━\u001b[0m \u001b[32m4.8/4.8 MB\u001b[0m \u001b[31m43.2 MB/s\u001b[0m eta \u001b[36m0:00:00\u001b[0m\r\n",
      "\u001b[2K   \u001b[90m━━━━━━━━━━━━━━━━━━━━━━━━━━━━━━━━━━━━━━━━\u001b[0m \u001b[32m930.8/930.8 kB\u001b[0m \u001b[31m39.5 MB/s\u001b[0m eta \u001b[36m0:00:00\u001b[0m\r\n",
      "\u001b[2K   \u001b[90m━━━━━━━━━━━━━━━━━━━━━━━━━━━━━━━━━━━━━━━━\u001b[0m \u001b[32m2.6/2.6 MB\u001b[0m \u001b[31m60.1 MB/s\u001b[0m eta \u001b[36m0:00:00\u001b[0m\r\n",
      "\u001b[2K   \u001b[90m━━━━━━━━━━━━━━━━━━━━━━━━━━━━━━━━━━━━━━━━\u001b[0m \u001b[32m2.1/2.1 MB\u001b[0m \u001b[31m53.2 MB/s\u001b[0m eta \u001b[36m0:00:00\u001b[0m\r\n",
      "\u001b[2K   \u001b[90m━━━━━━━━━━━━━━━━━━━━━━━━━━━━━━━━━━━━━━━━\u001b[0m \u001b[32m167.9/167.9 kB\u001b[0m \u001b[31m9.3 MB/s\u001b[0m eta \u001b[36m0:00:00\u001b[0m\r\n",
      "\u001b[2K   \u001b[90m━━━━━━━━━━━━━━━━━━━━━━━━━━━━━━━━━━━━━━━━\u001b[0m \u001b[32m8.6/8.6 MB\u001b[0m \u001b[31m77.4 MB/s\u001b[0m eta \u001b[36m0:00:00\u001b[0m\r\n",
      "\u001b[?25h"
     ]
    }
   ],
   "source": [
    "!pip install -q pennylane pandas"
   ]
  },
  {
   "cell_type": "code",
   "execution_count": 3,
   "id": "8775e42d",
   "metadata": {
    "execution": {
     "iopub.execute_input": "2025-08-01T14:23:24.717643Z",
     "iopub.status.busy": "2025-08-01T14:23:24.717284Z",
     "iopub.status.idle": "2025-08-01T14:23:30.057575Z",
     "shell.execute_reply": "2025-08-01T14:23:30.056584Z"
    },
    "papermill": {
     "duration": 5.347051,
     "end_time": "2025-08-01T14:23:30.059647",
     "exception": false,
     "start_time": "2025-08-01T14:23:24.712596",
     "status": "completed"
    },
    "tags": []
   },
   "outputs": [],
   "source": [
    "import pennylane as qml\n",
    "from pennylane import numpy as pnp"
   ]
  },
  {
   "cell_type": "code",
   "execution_count": 4,
   "id": "4e929440",
   "metadata": {
    "execution": {
     "iopub.execute_input": "2025-08-01T14:23:30.068952Z",
     "iopub.status.busy": "2025-08-01T14:23:30.068377Z",
     "iopub.status.idle": "2025-08-01T14:23:30.523913Z",
     "shell.execute_reply": "2025-08-01T14:23:30.522594Z"
    },
    "papermill": {
     "duration": 0.462201,
     "end_time": "2025-08-01T14:23:30.525839",
     "exception": false,
     "start_time": "2025-08-01T14:23:30.063638",
     "status": "completed"
    },
    "tags": []
   },
   "outputs": [],
   "source": [
    "spotify_df = pd.read_csv(\"/kaggle/input/30000-spotify-songs/spotify_songs.csv\")"
   ]
  },
  {
   "cell_type": "code",
   "execution_count": 5,
   "id": "9f6d38af",
   "metadata": {
    "execution": {
     "iopub.execute_input": "2025-08-01T14:23:30.534693Z",
     "iopub.status.busy": "2025-08-01T14:23:30.533920Z",
     "iopub.status.idle": "2025-08-01T14:23:30.557472Z",
     "shell.execute_reply": "2025-08-01T14:23:30.556545Z"
    },
    "papermill": {
     "duration": 0.02945,
     "end_time": "2025-08-01T14:23:30.559107",
     "exception": false,
     "start_time": "2025-08-01T14:23:30.529657",
     "status": "completed"
    },
    "tags": []
   },
   "outputs": [],
   "source": [
    "spotify_df.rename(columns={'name': 'track_name', 'artists': 'artist'}, inplace=True)\n",
    "spotify_df.dropna(subset=[\"valence\", \"energy\", \"acousticness\", \"danceability\"], inplace=True)"
   ]
  },
  {
   "cell_type": "code",
   "execution_count": 6,
   "id": "83078245",
   "metadata": {
    "execution": {
     "iopub.execute_input": "2025-08-01T14:23:30.567124Z",
     "iopub.status.busy": "2025-08-01T14:23:30.566829Z",
     "iopub.status.idle": "2025-08-01T14:23:30.571978Z",
     "shell.execute_reply": "2025-08-01T14:23:30.571148Z"
    },
    "papermill": {
     "duration": 0.010656,
     "end_time": "2025-08-01T14:23:30.573377",
     "exception": false,
     "start_time": "2025-08-01T14:23:30.562721",
     "status": "completed"
    },
    "tags": []
   },
   "outputs": [],
   "source": [
    "def score_from_prompt(prompt: str):\n",
    "    prompt = prompt.lower()\n",
    "    return {\n",
    "        'valence': 0.7 if 'happy' in prompt or 'nostalgic' in prompt else 0.3,\n",
    "        'energy': 0.5 if 'soft' in prompt else 0.8,\n",
    "        'acousticness': 0.8 if 'acoustic' in prompt or 'soft' in prompt else 0.2,\n",
    "        'danceability': 0.5\n",
    "    }"
   ]
  },
  {
   "cell_type": "code",
   "execution_count": 7,
   "id": "757ce7c2",
   "metadata": {
    "execution": {
     "iopub.execute_input": "2025-08-01T14:23:30.580857Z",
     "iopub.status.busy": "2025-08-01T14:23:30.580564Z",
     "iopub.status.idle": "2025-08-01T14:23:30.586097Z",
     "shell.execute_reply": "2025-08-01T14:23:30.585180Z"
    },
    "papermill": {
     "duration": 0.010925,
     "end_time": "2025-08-01T14:23:30.587584",
     "exception": false,
     "start_time": "2025-08-01T14:23:30.576659",
     "status": "completed"
    },
    "tags": []
   },
   "outputs": [],
   "source": [
    "def score_dataset(df, prompt):\n",
    "    target = score_from_prompt(prompt)\n",
    "    df = df.copy()\n",
    "    for key in target:\n",
    "        df[f'{key}_diff'] = abs(df[key] - target[key])\n",
    "    df['total_diff'] = df[[f'{k}_diff' for k in target]].sum(axis=1)\n",
    "    return df.sort_values(\"total_diff\")"
   ]
  },
  {
   "cell_type": "code",
   "execution_count": 8,
   "id": "27215336",
   "metadata": {
    "execution": {
     "iopub.execute_input": "2025-08-01T14:23:30.595508Z",
     "iopub.status.busy": "2025-08-01T14:23:30.595230Z",
     "iopub.status.idle": "2025-08-01T14:23:30.600572Z",
     "shell.execute_reply": "2025-08-01T14:23:30.599818Z"
    },
    "papermill": {
     "duration": 0.010678,
     "end_time": "2025-08-01T14:23:30.601849",
     "exception": false,
     "start_time": "2025-08-01T14:23:30.591171",
     "status": "completed"
    },
    "tags": []
   },
   "outputs": [],
   "source": [
    "def make_oracle(target_index, wires):\n",
    "    bin_str = format(target_index, f\"0{len(wires)}b\")\n",
    "    for i, bit in enumerate(bin_str):\n",
    "        if bit == '0':\n",
    "            qml.PauliX(wires=wires[i])\n",
    "    qml.MultiControlledX(wires=wires) \n",
    "    for i, bit in enumerate(bin_str):\n",
    "        if bit == '0':\n",
    "            qml.PauliX(wires=wires[i])"
   ]
  },
  {
   "cell_type": "code",
   "execution_count": 9,
   "id": "d149b1d9",
   "metadata": {
    "execution": {
     "iopub.execute_input": "2025-08-01T14:23:30.609668Z",
     "iopub.status.busy": "2025-08-01T14:23:30.609398Z",
     "iopub.status.idle": "2025-08-01T14:23:30.614239Z",
     "shell.execute_reply": "2025-08-01T14:23:30.613407Z"
    },
    "papermill": {
     "duration": 0.010062,
     "end_time": "2025-08-01T14:23:30.615451",
     "exception": false,
     "start_time": "2025-08-01T14:23:30.605389",
     "status": "completed"
    },
    "tags": []
   },
   "outputs": [],
   "source": [
    "def make_diffuser(wires):\n",
    "    for wire in wires:\n",
    "        qml.Hadamard(wires=wire)\n",
    "        qml.PauliX(wires=wire)\n",
    "    qml.MultiControlledX(wires=wires)\n",
    "    for wire in wires:\n",
    "        qml.PauliX(wires=wire)\n",
    "        qml.Hadamard(wires=wire)"
   ]
  },
  {
   "cell_type": "code",
   "execution_count": 10,
   "id": "49396606",
   "metadata": {
    "execution": {
     "iopub.execute_input": "2025-08-01T14:23:30.622988Z",
     "iopub.status.busy": "2025-08-01T14:23:30.622755Z",
     "iopub.status.idle": "2025-08-01T14:23:30.627897Z",
     "shell.execute_reply": "2025-08-01T14:23:30.626984Z"
    },
    "papermill": {
     "duration": 0.010678,
     "end_time": "2025-08-01T14:23:30.629553",
     "exception": false,
     "start_time": "2025-08-01T14:23:30.618875",
     "status": "completed"
    },
    "tags": []
   },
   "outputs": [],
   "source": [
    "def grover_search(n_qubits, target_index):\n",
    "    dev = qml.device(\"default.qubit\", wires=n_qubits)\n",
    "\n",
    "    @qml.qnode(dev)\n",
    "    def circuit():\n",
    "        wires = list(range(n_qubits))\n",
    "        for wire in wires:\n",
    "            qml.Hadamard(wires=wire)\n",
    "        make_oracle(target_index, wires)\n",
    "        make_diffuser(wires)\n",
    "        return qml.probs(wires=wires)\n",
    "\n",
    "    return circuit"
   ]
  },
  {
   "cell_type": "code",
   "execution_count": 11,
   "id": "6e47b505",
   "metadata": {
    "execution": {
     "iopub.execute_input": "2025-08-01T14:23:30.638471Z",
     "iopub.status.busy": "2025-08-01T14:23:30.638198Z",
     "iopub.status.idle": "2025-08-01T14:23:30.643186Z",
     "shell.execute_reply": "2025-08-01T14:23:30.642347Z"
    },
    "papermill": {
     "duration": 0.011461,
     "end_time": "2025-08-01T14:23:30.644759",
     "exception": false,
     "start_time": "2025-08-01T14:23:30.633298",
     "status": "completed"
    },
    "tags": []
   },
   "outputs": [],
   "source": [
    "def run_grover_search(df):\n",
    "    df = df.head(8)\n",
    "    min_index = df[\"total_diff\"].idxmin()\n",
    "    target_index = df.index.get_loc(min_index)\n",
    "    n_qubits = 3\n",
    "    circuit = grover_search(n_qubits, target_index)\n",
    "    probs = circuit()\n",
    "    selected = int(pnp.argmax(probs))\n",
    "    return df.iloc[selected]"
   ]
  },
  {
   "cell_type": "code",
   "execution_count": 12,
   "id": "c9fa87cf",
   "metadata": {
    "execution": {
     "iopub.execute_input": "2025-08-01T14:23:30.652563Z",
     "iopub.status.busy": "2025-08-01T14:23:30.652277Z",
     "iopub.status.idle": "2025-08-01T14:23:30.658021Z",
     "shell.execute_reply": "2025-08-01T14:23:30.657029Z"
    },
    "papermill": {
     "duration": 0.011221,
     "end_time": "2025-08-01T14:23:30.659403",
     "exception": false,
     "start_time": "2025-08-01T14:23:30.648182",
     "status": "completed"
    },
    "tags": []
   },
   "outputs": [],
   "source": [
    "class SongSearchPipeline:\n",
    "    def __init__(self, data):\n",
    "        self.data = data\n",
    "\n",
    "    def run(self, prompt, use_quantum=True):\n",
    "        scored = score_dataset(self.data, prompt)\n",
    "        if use_quantum:\n",
    "            result = run_grover_search(scored)\n",
    "        else:\n",
    "            result = scored.iloc[0]\n",
    "        return {\n",
    "            \"Track\": result.get(\"track_name\"),\n",
    "            \"Artist\": result.get(\"track_artist\"),\n",
    "            \"Score\": result.get(\"total_diff\")\n",
    "        }"
   ]
  },
  {
   "cell_type": "code",
   "execution_count": 13,
   "id": "8960ef43",
   "metadata": {
    "execution": {
     "iopub.execute_input": "2025-08-01T14:23:30.668132Z",
     "iopub.status.busy": "2025-08-01T14:23:30.667475Z",
     "iopub.status.idle": "2025-08-01T14:23:30.755321Z",
     "shell.execute_reply": "2025-08-01T14:23:30.753963Z"
    },
    "papermill": {
     "duration": 0.09397,
     "end_time": "2025-08-01T14:23:30.757104",
     "exception": false,
     "start_time": "2025-08-01T14:23:30.663134",
     "status": "completed"
    },
    "tags": []
   },
   "outputs": [
    {
     "name": "stdout",
     "output_type": "stream",
     "text": [
      "{'Track': 'How You Love Me', 'Artist': '3LAU', 'Score': 0.04600000000000004}\n"
     ]
    }
   ],
   "source": [
    "pipeline = SongSearchPipeline(spotify_df)\n",
    "prompt = \"play energy\"\n",
    "result = pipeline.run(prompt, use_quantum=True)\n",
    "print(result)"
   ]
  }
 ],
 "metadata": {
  "kaggle": {
   "accelerator": "none",
   "dataSources": [
    {
     "datasetId": 3938173,
     "sourceId": 6851382,
     "sourceType": "datasetVersion"
    }
   ],
   "dockerImageVersionId": 31089,
   "isGpuEnabled": false,
   "isInternetEnabled": true,
   "language": "python",
   "sourceType": "notebook"
  },
  "kernelspec": {
   "display_name": "Python 3",
   "language": "python",
   "name": "python3"
  },
  "language_info": {
   "codemirror_mode": {
    "name": "ipython",
    "version": 3
   },
   "file_extension": ".py",
   "mimetype": "text/x-python",
   "name": "python",
   "nbconvert_exporter": "python",
   "pygments_lexer": "ipython3",
   "version": "3.11.13"
  },
  "papermill": {
   "default_parameters": {},
   "duration": 27.117297,
   "end_time": "2025-08-01T14:23:33.697431",
   "environment_variables": {},
   "exception": null,
   "input_path": "__notebook__.ipynb",
   "output_path": "__notebook__.ipynb",
   "parameters": {},
   "start_time": "2025-08-01T14:23:06.580134",
   "version": "2.6.0"
  }
 },
 "nbformat": 4,
 "nbformat_minor": 5
}
